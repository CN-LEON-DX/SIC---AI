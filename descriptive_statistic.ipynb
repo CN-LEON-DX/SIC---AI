{
 "cells": [
  {
   "cell_type": "code",
   "execution_count": 3,
   "metadata": {},
   "outputs": [],
   "source": [
    "import pandas as pd\n",
    "import numpy as np\n",
    "import matplotlib.pyplot as plt\n",
    "import os\n",
    "%matplotlib inline"
   ]
  },
  {
   "cell_type": "markdown",
   "metadata": {},
   "source": [
    "# Get the iris data"
   ]
  },
  {
   "cell_type": "code",
   "execution_count": 1,
   "metadata": {},
   "outputs": [
    {
     "name": "stdout",
     "output_type": "stream",
     "text": [
      "--2024-08-07 00:09:49--  https://raw.githubusercontent.com/stefannae/SIC-Artificial-Intelligence/main/SIC_AI_Coding_Exercises/SIC_AI_Chapter_04_Coding_Exercises/data_studentlist.csv\n",
      "Resolving raw.githubusercontent.com (raw.githubusercontent.com)... 2606:50c0:8000::154, 2606:50c0:8001::154, 2606:50c0:8002::154, ...\n",
      "Connecting to raw.githubusercontent.com (raw.githubusercontent.com)|2606:50c0:8000::154|:443... connected.\n",
      "HTTP request sent, awaiting response... 200 OK\n",
      "Length: 674 [text/plain]\n",
      "Saving to: ‘data_studentlist.csv’\n",
      "\n",
      "data_studentlist.cs 100%[===================>]     674  --.-KB/s    in 0s      \n",
      "\n",
      "2024-08-07 00:09:50 (28.2 MB/s) - ‘data_studentlist.csv’ saved [674/674]\n",
      "\n"
     ]
    }
   ],
   "source": [
    "!wget --no-clobber https://raw.githubusercontent.com/stefannae/SIC-Artificial-Intelligence/main/SIC_AI_Coding_Exercises/SIC_AI_Chapter_04_Coding_Exercises/data_studentlist.csv"
   ]
  },
  {
   "cell_type": "code",
   "execution_count": 4,
   "metadata": {},
   "outputs": [
    {
     "name": "stdout",
     "output_type": "stream",
     "text": [
      "                name gender  age  grade absence bloodtype  height  weight\n",
      "0      Jared Diamond      M   23      3       Y         O   165.3    68.2\n",
      "1     Sarah O'Donnel      F   22      2       N        AB   170.1    53.0\n",
      "2       Brian Martin      M   24      4       N         B   175.0    80.1\n",
      "3       David Hassel      M   23      3       N        AB   182.1    85.7\n",
      "4    Clara Rodriquez      F   20      1       Y         A   168.0    49.5\n",
      "5   Jennifer Lorentz      F   21      2       N         O   162.0    52.0\n",
      "6        Susan Clark      F   22      1       N         O   155.2    45.3\n",
      "7    Margareth Jones      F   23      1       N         A   176.9    55.0\n",
      "8       John Bertsch      M   23      3       N         B   178.5    64.2\n",
      "9     Jake Timmerman      M   22      2       N         B   176.1    61.3\n",
      "10     Joshua Connor      M   24      4       Y         O   167.1    62.0\n",
      "11      John Matsuda      M   22      2       N        AB   180.0    75.8\n",
      "12      Eddy Johnson      M   21      1       N         A   162.2    55.3\n",
      "13  Rebecah Anderson      F   23      3       N         O   176.1    53.1\n",
      "14      Linda Carter      F   22      2       N         B   158.2    45.2\n",
      "15    Richard Swayze      M   24      4       Y         B   168.6    70.2\n",
      "16       Andrew King      M   21      1       N         A   169.2    62.2\n"
     ]
    }
   ],
   "source": [
    "# Read the data \n",
    "df = pd.read_csv('data_studentlist.csv', header='infer')\n",
    "\n",
    "print(df)"
   ]
  },
  {
   "cell_type": "code",
   "execution_count": 5,
   "metadata": {},
   "outputs": [
    {
     "data": {
      "text/plain": [
       "(17, 8)"
      ]
     },
     "execution_count": 5,
     "metadata": {},
     "output_type": "execute_result"
    }
   ],
   "source": [
    "df.shape\n",
    "# -> 17 rows and 8 colunm"
   ]
  },
  {
   "cell_type": "code",
   "execution_count": 6,
   "metadata": {},
   "outputs": [
    {
     "data": {
      "text/plain": [
       "170.03529411764703"
      ]
     },
     "execution_count": 6,
     "metadata": {},
     "output_type": "execute_result"
    }
   ],
   "source": [
    "df['height'].mean()\n",
    "# Unbiased mean.\n",
    "# Fomular: s^2 = 1/(n-1) * Accumulate i to n (Xi)"
   ]
  },
  {
   "cell_type": "code",
   "execution_count": 8,
   "metadata": {},
   "outputs": [
    {
     "data": {
      "text/plain": [
       "61.61867647058828"
      ]
     },
     "execution_count": 8,
     "metadata": {},
     "output_type": "execute_result"
    }
   ],
   "source": [
    "# Unbiased estimator of the variance.\n",
    "df['height'].var(ddof=1)\n",
    "\n",
    "# Fomular for sample variance vs population variance \n",
    "# s^2 = 1/(n-1) Accumulate i -> n : (X_i - X_mean)^2"
   ]
  },
  {
   "cell_type": "code",
   "execution_count": 7,
   "metadata": {},
   "outputs": [
    {
     "data": {
      "text/plain": [
       "7.849756459316956"
      ]
     },
     "execution_count": 7,
     "metadata": {},
     "output_type": "execute_result"
    }
   ],
   "source": [
    " # Unbiased estimator of the standard deviation.\n",
    "\n",
    "df['height'].std(ddof=1)\n",
    "# base on varriance => standard deviation = sqrt(s^2) = s"
   ]
  },
  {
   "cell_type": "code",
   "execution_count": 9,
   "metadata": {},
   "outputs": [
    {
     "data": {
      "text/plain": [
       "7.849756459316956"
      ]
     },
     "execution_count": 9,
     "metadata": {},
     "output_type": "execute_result"
    }
   ],
   "source": [
    " # Unbiased estimator of the standard deviation.\n",
    "df['height'].std(ddof=1)\n"
   ]
  },
  {
   "cell_type": "code",
   "execution_count": 10,
   "metadata": {},
   "outputs": [
    {
     "data": {
      "text/plain": [
       "169.2"
      ]
     },
     "execution_count": 10,
     "metadata": {},
     "output_type": "execute_result"
    }
   ],
   "source": [
    " # Median.\n",
    "df['height'].median()\n"
   ]
  },
  {
   "cell_type": "code",
   "execution_count": 11,
   "metadata": {},
   "outputs": [
    {
     "data": {
      "text/plain": [
       "155.2"
      ]
     },
     "execution_count": 11,
     "metadata": {},
     "output_type": "execute_result"
    }
   ],
   "source": [
    " # Minimum.\n",
    "df['height'].min()\n"
   ]
  },
  {
   "cell_type": "code",
   "execution_count": 12,
   "metadata": {},
   "outputs": [
    {
     "data": {
      "text/plain": [
       "182.1"
      ]
     },
     "execution_count": 12,
     "metadata": {},
     "output_type": "execute_result"
    }
   ],
   "source": [
    " # Maximum.\n",
    "df['height'].max()"
   ]
  },
  {
   "cell_type": "code",
   "execution_count": 13,
   "metadata": {},
   "outputs": [
    {
     "data": {
      "text/plain": [
       "160.48"
      ]
     },
     "execution_count": 13,
     "metadata": {},
     "output_type": "execute_result"
    }
   ],
   "source": [
    "# Quantile at alpha = 0.1\n",
    "df['height'].quantile(0.1)\n"
   ]
  },
  {
   "cell_type": "code",
   "execution_count": 14,
   "metadata": {},
   "outputs": [
    {
     "data": {
      "text/plain": [
       "179.1"
      ]
     },
     "execution_count": 14,
     "metadata": {},
     "output_type": "execute_result"
    }
   ],
   "source": [
    " # Quantile at alpha = 0.9\n",
    "df['height'].quantile(0.9)\n"
   ]
  },
  {
   "cell_type": "markdown",
   "metadata": {},
   "source": [
    "# BOXPLOT"
   ]
  },
  {
   "cell_type": "code",
   "execution_count": 15,
   "metadata": {},
   "outputs": [
    {
     "data": {
      "text/plain": [
       "10.799999999999983"
      ]
     },
     "execution_count": 15,
     "metadata": {},
     "output_type": "execute_result"
    }
   ],
   "source": [
    " # The Inter Quartile Range\n",
    "IQR = df['height'].quantile(0.75)- df['height'].quantile(0.25)\n",
    "IQR\n"
   ]
  },
  {
   "cell_type": "code",
   "execution_count": 16,
   "metadata": {},
   "outputs": [
    {
     "data": {
      "image/png": "[encoded data removed]",
      "text/plain": [
       "<Figure size 640x480 with 1 Axes>"
      ]
     },
     "metadata": {},
     "output_type": "display_data"
    }
   ],
   "source": [
    " # Show a Boxplot for the height.\n",
    "plt.boxplot(df['height'])\n",
    "plt.show()\n"
   ]
  },
  {
   "cell_type": "code",
   "execution_count": 17,
   "metadata": {},
   "outputs": [
    {
     "data": {
      "image/png": "[encoded data removed]",
      "text/plain": [
       "<Figure size 640x480 with 1 Axes>"
      ]
     },
     "metadata": {},
     "output_type": "display_data"
    }
   ],
   "source": [
    " # Show a Boxplot for the weight.\n",
    "plt.boxplot(df['weight'])\n",
    "plt.show()"
   ]
  },
  {
   "cell_type": "markdown",
   "metadata": {},
   "source": [
    "# Covariance and Correlation"
   ]
  },
  {
   "cell_type": "code",
   "execution_count": 18,
   "metadata": {},
   "outputs": [
    {
     "data": {
      "text/plain": [
       "61.790698529411785"
      ]
     },
     "execution_count": 18,
     "metadata": {},
     "output_type": "execute_result"
    }
   ],
   "source": [
    " # Covariance.\n",
    "df['height'].cov(df['weight'])"
   ]
  },
  {
   "cell_type": "code",
   "execution_count": 19,
   "metadata": {},
   "outputs": [
    {
     "data": {
      "text/plain": [
       "0.6641815979588612"
      ]
     },
     "execution_count": 19,
     "metadata": {},
     "output_type": "execute_result"
    }
   ],
   "source": [
    " # Correlation.\n",
    "df['height'].corr(df['weight'])\n"
   ]
  },
  {
   "cell_type": "code",
   "execution_count": 20,
   "metadata": {},
   "outputs": [
    {
     "data": {
      "text/plain": [
       "0.6641815979588611"
      ]
     },
     "execution_count": 20,
     "metadata": {},
     "output_type": "execute_result"
    }
   ],
   "source": [
    " # Calculate the correlation using the covariance.\n",
    "# We get the same result as above.\n",
    "df['height'].cov(df['weight'])/(df['height'].std()*df['weight'].std())"
   ]
  },
  {
   "cell_type": "markdown",
   "metadata": {},
   "source": [
    "# Visualization"
   ]
  },
  {
   "cell_type": "code",
   "execution_count": 21,
   "metadata": {},
   "outputs": [
    {
     "data": {
      "image/png": "[encoded data removed]",
      "text/plain": [
       "<Figure size 640x480 with 1 Axes>"
      ]
     },
     "metadata": {},
     "output_type": "display_data"
    }
   ],
   "source": [
    "# Visually inspect the relationship between X and Y.\n",
    "df.plot.scatter(x='weight',y='height')\n",
    "plt.show()\n"
   ]
  },
  {
   "cell_type": "code",
   "execution_count": 22,
   "metadata": {},
   "outputs": [
    {
     "data": {
      "image/png": "[encoded data removed]",
      "text/plain": [
       "<Figure size 640x480 with 1 Axes>"
      ]
     },
     "metadata": {},
     "output_type": "display_data"
    }
   ],
   "source": [
    " # Visually inspect the relationship between X and Y.\n",
    "# Distinguish the gender by color.\n",
    "base=df[df.gender=='M'].plot.scatter(x='height',y='weight',color='blue',marker='o',s=20)\n",
    "df[df.gender=='F'].plot.scatter(x='height',y='weight',color='red',marker='o',s=20, ax=base)\n",
    "plt.show()\n"
   ]
  }
 ],
 "metadata": {
  "kernelspec": {
   "display_name": "base",
   "language": "python",
   "name": "python3"
  },
  "language_info": {
   "codemirror_mode": {
    "name": "ipython",
    "version": 3
   },
   "file_extension": ".py",
   "mimetype": "text/x-python",
   "name": "python",
   "nbconvert_exporter": "python",
   "pygments_lexer": "ipython3",
   "version": "3.12.4"
  }
 },
 "nbformat": 4,
 "nbformat_minor": 2
}
