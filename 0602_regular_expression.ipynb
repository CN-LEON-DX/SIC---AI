{
 "cells": [
  {
   "cell_type": "code",
   "execution_count": 1,
   "metadata": {},
   "outputs": [],
   "source": [
    "import re\n",
    "import os"
   ]
  },
  {
   "cell_type": "code",
   "execution_count": 2,
   "metadata": {},
   "outputs": [
    {
     "name": "stdout",
     "output_type": "stream",
     "text": [
      "\n",
      "A new release of Oh My Posh is available: v23.4.0 → v23.6.2\n",
      "To upgrade, run: 'oh-my-posh upgrade'\n",
      "\n",
      "To enable automated upgrades, set 'auto_upgrade' to 'true' in your configuration.\n",
      "\n",
      "--2024-08-10 15:47:34--  https://github.com/stefannae/SIC-Artificial-Intelligence/raw/main/SIC_AI_Coding_Exercises/SIC_AI_Chapter_07_Coding_Exercises/book_crime_and_punishment.txt\n",
      "Resolving github.com (github.com)... 20.205.243.166\n",
      "Connecting to github.com (github.com)|20.205.243.166|:443... connected.\n",
      "HTTP request sent, awaiting response... 302 Found\n",
      "Location: https://raw.githubusercontent.com/stefannae/SIC-Artificial-Intelligence/main/SIC_AI_Coding_Exercises/SIC_AI_Chapter_07_Coding_Exercises/book_crime_and_punishment.txt [following]\n",
      "--2024-08-10 15:47:35--  https://raw.githubusercontent.com/stefannae/SIC-Artificial-Intelligence/main/SIC_AI_Coding_Exercises/SIC_AI_Chapter_07_Coding_Exercises/book_crime_and_punishment.txt\n",
      "Resolving raw.githubusercontent.com (raw.githubusercontent.com)... 2606:50c0:8003::154, 2606:50c0:8001::154, 2606:50c0:8000::154, ...\n",
      "Connecting to raw.githubusercontent.com (raw.githubusercontent.com)|2606:50c0:8003::154|:443... connected.\n",
      "HTTP request sent, awaiting response... 200 OK\n",
      "Length: 1177208 (1.1M) [text/plain]\n",
      "Saving to: ‘book_crime_and_punishment.txt’\n",
      "\n",
      "book_crime_and_puni 100%[===================>]   1.12M  1.52MB/s    in 0.7s    \n",
      "\n",
      "2024-08-10 15:47:36 (1.52 MB/s) - ‘book_crime_and_punishment.txt’ saved [1177208/1177208]\n",
      "\n"
     ]
    }
   ],
   "source": [
    "!wget --no-clobber https://github.com/stefannae/SIC-Artificial-Intelligence/raw/main/SIC_AI_Coding_Exercises/SIC_AI_Chapter_07_Coding_Exercises/book_crime_and_punishment.txt"
   ]
  },
  {
   "cell_type": "code",
   "execution_count": 3,
   "metadata": {},
   "outputs": [],
   "source": [
    "# Read the book.\n",
    "f = open(\"./book_crime_and_punishment.txt\",'r',encoding='UTF8')\n",
    "book = f.readlines()\n",
    "f.close()"
   ]
  },
  {
   "cell_type": "code",
   "execution_count": 4,
   "metadata": {},
   "outputs": [],
   "source": [
    "# A function that returns the strings where the pattern is matched.\n",
    "# The pattern is input as a regular expression.\n",
    "def grep(reg_exp, my_text):\n",
    "    result = []\n",
    "    reg_exp_compiled = re.compile(reg_exp)\n",
    "    for i in range(len(my_text)):\n",
    "        if reg_exp_compiled.search(my_text[i]):\n",
    "            result.append(my_text[i])\n",
    "    return result"
   ]
  },
  {
   "cell_type": "markdown",
   "metadata": {},
   "source": [
    "# Test function"
   ]
  },
  {
   "cell_type": "code",
   "execution_count": 5,
   "metadata": {},
   "outputs": [
    {
     "data": {
      "text/plain": [
       "['Cat purrrs']"
      ]
     },
     "execution_count": 5,
     "metadata": {},
     "output_type": "execute_result"
    }
   ],
   "source": [
    "grep('hate', ['I love you', 'I hate you', 'I like you'])\n"
   ]
  },
  {
   "cell_type": "code",
   "execution_count": 6,
   "metadata": {},
   "outputs": [
    {
     "data": {
      "text/plain": [
       "['1000 that is!']"
      ]
     },
     "execution_count": 6,
     "metadata": {},
     "output_type": "execute_result"
    }
   ],
   "source": [
    "grep(\"^[0-9]\", [\"1000 that is!\", \"you are the number 212\", \"my age is 21\"])\n"
   ]
  },
  {
   "cell_type": "code",
   "execution_count": 7,
   "metadata": {},
   "outputs": [
    {
     "data": {
      "text/plain": [
       "['Cat purrrs']"
      ]
     },
     "execution_count": 7,
     "metadata": {},
     "output_type": "execute_result"
    }
   ],
   "source": [
    "grep(\"r{3}.\", [\"Dog barks\", \"Cat purrrs\", \"Brroong\"])"
   ]
  },
  {
   "cell_type": "markdown",
   "metadata": {},
   "source": [
    "# Search the book “Crime and Punishment”."
   ]
  },
  {
   "cell_type": "code",
   "execution_count": 8,
   "metadata": {},
   "outputs": [
    {
     "data": {
      "text/plain": [
       "['This was not because he was cowardly and abject, quite the contrary; but\\n',\n",
       " 'This evening, however, on coming out into the street, he became acutely\\n',\n",
       " 'This sum (now I can explain it all to you, my precious Rodya) she took\\n',\n",
       " 'This chance raised his spirits extraordinarily.\\n',\n",
       " 'This was a gentleman no longer young, of a stiff and portly appearance,\\n',\n",
       " 'This familiar “what do you want” seemed to cut the ground from the\\n',\n",
       " 'This washing was done by Katerina Ivanovna at night at least twice a\\n',\n",
       " 'This conversation took place on the landing just before the landlady’s\\n',\n",
       " 'This walking up and down when she was thinking was a habit of Avdotya\\n',\n",
       " 'This was really unbearable. Raskolnikov could not help glancing at him\\n',\n",
       " 'This horrible answer sent a cold chill through Raskolnikov. Svidrigaïlov\\n',\n",
       " 'This last complaint was so characteristic of Pyotr Petrovitch, that\\n',\n",
       " 'This uncle has got a capital of a thousand roubles, and he lives on his\\n',\n",
       " 'This stupid repetition was too incongruous in its ineptitude with the\\n',\n",
       " 'This man’s appearance was at first sight very strange. He stared\\n',\n",
       " 'This was the first time she had spoken to him of the project, and she\\n',\n",
       " 'This conversation took place in the passage on the stairs. Svidrigaïlov\\n',\n",
       " 'This idea sometimes even tormented his dreams, but it had never\\n',\n",
       " 'This confession drove her to frenzy, but yet she seems in a way to have\\n']"
      ]
     },
     "execution_count": 8,
     "metadata": {},
     "output_type": "execute_result"
    }
   ],
   "source": [
    "grep(\"^This\",book) # Sentences that begin with \"This\""
   ]
  },
  {
   "cell_type": "code",
   "execution_count": 9,
   "metadata": {},
   "outputs": [
    {
     "data": {
      "text/plain": [
       "0.23675104716809325"
      ]
     },
     "execution_count": 9,
     "metadata": {},
     "output_type": "execute_result"
    }
   ],
   "source": [
    "grep(\"end[.]$\",book) # Sentences that end with \"end.\"\n",
    "# grep(\"^[Ii]\",book) # Sentences that begin with 'I' or 'i'\n",
    "# grep(\"^[0-9]\",book) # Sentences that begin with a number.\n",
    "# grep(\"b.d\",book) # Sentences with the pattern 'b.d'\n",
    "# grep(\"b...d\",book) # Sentences with the pattern 'b...d'\n",
    "# grep(\"r?ed\",book) # Sentences with 'ed' or 'red'\n",
    "# grep(\"love|hate\",book) # Sentences with \"love\" or \"hate\".\n",
    "100*len(grep(\"crime|punishment\",book))/len(book) # Percentage of the sentences with \"crime\" or \"punishment\"."
   ]
  },
  {
   "cell_type": "code",
   "execution_count": null,
   "metadata": {},
   "outputs": [],
   "source": []
  }
 ],
 "metadata": {
  "kernelspec": {
   "display_name": "base",
   "language": "python",
   "name": "python3"
  },
  "language_info": {
   "codemirror_mode": {
    "name": "ipython",
    "version": 3
   },
   "file_extension": ".py",
   "mimetype": "text/x-python",
   "name": "python",
   "nbconvert_exporter": "python",
   "pygments_lexer": "ipython3",
   "version": "3.12.4"
  }
 },
 "nbformat": 4,
 "nbformat_minor": 2
}
